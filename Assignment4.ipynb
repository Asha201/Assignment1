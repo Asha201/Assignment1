{
 "cells": [
  {
   "cell_type": "code",
   "execution_count": null,
   "id": "2bd4734f",
   "metadata": {},
   "outputs": [],
   "source": [
    "# Assignment 4 #"
   ]
  },
  {
   "cell_type": "markdown",
   "id": "2e78f99c",
   "metadata": {},
   "source": [
    "#Q 1. What exactly is []?"
   ]
  },
  {
   "cell_type": "raw",
   "id": "7202d6a6",
   "metadata": {},
   "source": [
    "Ans.  [] represents empty list in python, like l=[]"
   ]
  },
  {
   "cell_type": "markdown",
   "id": "8d0a6c56",
   "metadata": {},
   "source": [
    "#Q 2. In a list of values stored in a variable called spam, how would you assign the value 'hello' as the third value? (Assume [2, 4, 6, 8, 10] are in spam.)\n"
   ]
  },
  {
   "cell_type": "code",
   "execution_count": 2,
   "id": "2e18c545",
   "metadata": {},
   "outputs": [
    {
     "data": {
      "text/plain": [
       "[2, 4, 'hello', 8, 10]"
      ]
     },
     "execution_count": 2,
     "metadata": {},
     "output_type": "execute_result"
    }
   ],
   "source": [
    "# assigning 'hello' to the third value of the list ie 6 # \n",
    "\n",
    "spam = [2, 4, 6, 8, 10]\n",
    "spam[2] = \"hello\"\n",
    "\n",
    "spam"
   ]
  },
  {
   "cell_type": "markdown",
   "id": "d9b53330",
   "metadata": {},
   "source": [
    "Let's pretend the spam includes the list ['a', 'b', 'c', 'd'] for the next three queries."
   ]
  },
  {
   "cell_type": "markdown",
   "id": "81b392b3",
   "metadata": {},
   "source": [
    "#Q 3. What is the value of spam[int(int('3' * 2) / 11)]?"
   ]
  },
  {
   "cell_type": "code",
   "execution_count": 3,
   "id": "5d0c828a",
   "metadata": {},
   "outputs": [
    {
     "data": {
      "text/plain": [
       "'d'"
      ]
     },
     "execution_count": 3,
     "metadata": {},
     "output_type": "execute_result"
    }
   ],
   "source": [
    "# spam[int(33/11)]=spam[3] #\n",
    "\n",
    "spam = ['a', 'b', 'c', 'd']\n",
    "spam[int(int('3'*2)/11)]"
   ]
  },
  {
   "cell_type": "markdown",
   "id": "808fb04c",
   "metadata": {},
   "source": [
    "#Q 4. What is the value of spam[-1]?"
   ]
  },
  {
   "cell_type": "code",
   "execution_count": 5,
   "id": "528f2c94",
   "metadata": {},
   "outputs": [
    {
     "data": {
      "text/plain": [
       "'d'"
      ]
     },
     "execution_count": 5,
     "metadata": {},
     "output_type": "execute_result"
    }
   ],
   "source": [
    "# negative index # \n",
    "spam = ['a', 'b','c','d']\n",
    "spam[-1] "
   ]
  },
  {
   "cell_type": "markdown",
   "id": "0ca8f6f7",
   "metadata": {},
   "source": [
    "5. What is the value of spam[:2]?"
   ]
  },
  {
   "cell_type": "code",
   "execution_count": 7,
   "id": "27a880f9",
   "metadata": {},
   "outputs": [
    {
     "data": {
      "text/plain": [
       "['a', 'b']"
      ]
     },
     "execution_count": 7,
     "metadata": {},
     "output_type": "execute_result"
    }
   ],
   "source": [
    "# string slicing#\n",
    "spam = ['a', 'b','c','d']\n",
    "spam[:2]"
   ]
  },
  {
   "cell_type": "markdown",
   "id": "5f4a5972",
   "metadata": {},
   "source": [
    "Let's pretend bacon has the list [3.14, 'cat,' 11, 'cat,' True] for the next three questions."
   ]
  },
  {
   "cell_type": "markdown",
   "id": "0cec7cea",
   "metadata": {},
   "source": [
    "#Q. 6. What is the value of bacon.index('cat')?"
   ]
  },
  {
   "cell_type": "code",
   "execution_count": 8,
   "id": "247da37c",
   "metadata": {},
   "outputs": [
    {
     "data": {
      "text/plain": [
       "1"
      ]
     },
     "execution_count": 8,
     "metadata": {},
     "output_type": "execute_result"
    }
   ],
   "source": [
    "bacon = [3.14, 'cat', 11, 'cat', True]\n",
    "bacon.index('cat')\n",
    "# it returns the index of first occurrence of 'cat'#\n"
   ]
  },
  {
   "cell_type": "markdown",
   "id": "dd358787",
   "metadata": {},
   "source": [
    "#Q. 7. How does bacon.append(99) change the look of the list value in bacon?"
   ]
  },
  {
   "cell_type": "code",
   "execution_count": 9,
   "id": "e45073bd",
   "metadata": {},
   "outputs": [
    {
     "data": {
      "text/plain": [
       "[3.14, 'cat', 11, 'cat', True, 99]"
      ]
     },
     "execution_count": 9,
     "metadata": {},
     "output_type": "execute_result"
    }
   ],
   "source": [
    "bacon = [3.14, 'cat', 11, 'cat', True]\n",
    "bacon.append(99) \n",
    "bacon\n",
    "# append adds the item at the end of the list #"
   ]
  },
  {
   "cell_type": "markdown",
   "id": "b7f3c314",
   "metadata": {},
   "source": [
    "#Q. 8. How does bacon.remove('cat') change the look of the list in bacon?"
   ]
  },
  {
   "cell_type": "code",
   "execution_count": 10,
   "id": "ffb7da13",
   "metadata": {},
   "outputs": [
    {
     "data": {
      "text/plain": [
       "[3.14, 11, 'cat', True]"
      ]
     },
     "execution_count": 10,
     "metadata": {},
     "output_type": "execute_result"
    }
   ],
   "source": [
    "bacon = [3.14, 'cat', 11, 'cat', True]\n",
    "bacon.remove('cat') \n",
    "bacon\n",
    "# remove first occurrence of item #"
   ]
  },
  {
   "cell_type": "markdown",
   "id": "6f1e90f1",
   "metadata": {},
   "source": [
    "#Q. 9. What are the list concatenation and list replication operators?"
   ]
  },
  {
   "cell_type": "raw",
   "id": "37a785a3",
   "metadata": {},
   "source": [
    "Operator used for list concatenation is +, \n",
    "Operator used for list replication is *."
   ]
  },
  {
   "cell_type": "code",
   "execution_count": 12,
   "id": "e932dc43",
   "metadata": {},
   "outputs": [
    {
     "data": {
      "text/plain": [
       "[1, 2, 3, 9, 10, 'hello']"
      ]
     },
     "execution_count": 12,
     "metadata": {},
     "output_type": "execute_result"
    }
   ],
   "source": [
    "# list concatenation #\n",
    "l1 = [1, 2,3]\n",
    "l2 = [9, 10, 'hello']\n",
    "l1+l2 "
   ]
  },
  {
   "cell_type": "code",
   "execution_count": 13,
   "id": "ced95f74",
   "metadata": {},
   "outputs": [
    {
     "data": {
      "text/plain": [
       "[1, 2, 3, 1, 2, 3]"
      ]
     },
     "execution_count": 13,
     "metadata": {},
     "output_type": "execute_result"
    }
   ],
   "source": [
    "#  list replication #\n",
    "l1 = [1,2,3]\n",
    "l1 * 2"
   ]
  },
  {
   "cell_type": "markdown",
   "id": "d9066040",
   "metadata": {},
   "source": [
    "#Q. 10. What is difference between the list methods append() and insert()?"
   ]
  },
  {
   "cell_type": "raw",
   "id": "83886b1d",
   "metadata": {},
   "source": [
    "append() append adds the item at the end of the list.\n",
    "insert() Insert use index parameter to insert element in the list."
   ]
  },
  {
   "cell_type": "code",
   "execution_count": 14,
   "id": "9b50ce7a",
   "metadata": {},
   "outputs": [
    {
     "data": {
      "text/plain": [
       "[3.14, 'cat', 11, True, 'hello']"
      ]
     },
     "execution_count": 14,
     "metadata": {},
     "output_type": "execute_result"
    }
   ],
   "source": [
    "# append adds the item at the end of the list #\n",
    "bacon = [3.14, 'cat', 11,  True]\n",
    "bacon.append('hello') \n",
    "bacon"
   ]
  },
  {
   "cell_type": "code",
   "execution_count": 15,
   "id": "131f4ebc",
   "metadata": {},
   "outputs": [
    {
     "data": {
      "text/plain": [
       "[2, 4, 'hello', 6, 8, 10]"
      ]
     },
     "execution_count": 15,
     "metadata": {},
     "output_type": "execute_result"
    }
   ],
   "source": [
    "# solution by inserting value in 3rd index #\n",
    "spam = [2, 4, 6, 8, 10]\n",
    "spam.insert(2,'hello')\n",
    "spam"
   ]
  },
  {
   "cell_type": "markdown",
   "id": "d01e23ae",
   "metadata": {},
   "source": [
    "#Q 11. What are the two methods for removing items from a list?"
   ]
  },
  {
   "cell_type": "raw",
   "id": "ab1f9ef5",
   "metadata": {},
   "source": [
    "remove(item) - removeds first occurence of a item\n",
    "pop() - Remove and returns item at index (default last).\n",
    "del(list) - deletes the list and remove specific index."
   ]
  },
  {
   "cell_type": "code",
   "execution_count": 16,
   "id": "40e65afd",
   "metadata": {},
   "outputs": [
    {
     "data": {
      "text/plain": [
       "[3.14, 11, 'cat', True]"
      ]
     },
     "execution_count": 16,
     "metadata": {},
     "output_type": "execute_result"
    }
   ],
   "source": [
    "bacon = [3.14, 'cat', 11, 'cat', True]\n",
    "bacon.remove('cat') #  Remove first occurrence of value. #\n",
    "bacon"
   ]
  },
  {
   "cell_type": "code",
   "execution_count": 24,
   "id": "944379ea",
   "metadata": {},
   "outputs": [
    {
     "data": {
      "text/plain": [
       "[3.14, 'cat', 'cat', True]"
      ]
     },
     "execution_count": 24,
     "metadata": {},
     "output_type": "execute_result"
    }
   ],
   "source": [
    "bacon = [3.14, 'cat', 11, 'cat', True]\n",
    "bacon.pop() #Remove and return item at index (default last).#\n",
    "bacon"
   ]
  },
  {
   "cell_type": "code",
   "execution_count": 23,
   "id": "d3e00f1b",
   "metadata": {},
   "outputs": [
    {
     "data": {
      "text/plain": [
       "[3.14, 'cat', 11, True]"
      ]
     },
     "execution_count": 23,
     "metadata": {},
     "output_type": "execute_result"
    }
   ],
   "source": [
    "bacon = [3.14, 'cat', 11, 'cat', True]\n",
    "del bacon[3] # using del, removes specific index #\n",
    "bacon"
   ]
  },
  {
   "cell_type": "markdown",
   "id": "0bebaa33",
   "metadata": {},
   "source": [
    "#Q. 12.Describe how list values and string values are identical."
   ]
  },
  {
   "cell_type": "raw",
   "id": "ac391715",
   "metadata": {},
   "source": [
    " Both lists and strings can be passed to len()\n",
    "Both have indexes and slices\n",
    "Can be used in for loop\n",
    "Can be concatenated or replicated\n",
    "Can be used with the in and not in operators"
   ]
  },
  {
   "cell_type": "code",
   "execution_count": 26,
   "id": "06b94a4c",
   "metadata": {},
   "outputs": [
    {
     "data": {
      "text/plain": [
       "(5, 5)"
      ]
     },
     "execution_count": 26,
     "metadata": {},
     "output_type": "execute_result"
    }
   ],
   "source": [
    "string = 'hello'\n",
    "l = ['h','e','l','l','0']\n",
    "\n",
    "# lenth method #\n",
    "len(string), len(l)\n"
   ]
  },
  {
   "cell_type": "code",
   "execution_count": 28,
   "id": "e4b4df70",
   "metadata": {},
   "outputs": [
    {
     "data": {
      "text/plain": [
       "('he', ['h', 'e'])"
      ]
     },
     "execution_count": 28,
     "metadata": {},
     "output_type": "execute_result"
    }
   ],
   "source": [
    "# slicing  method #\n",
    "string [:2], l[:2]"
   ]
  },
  {
   "cell_type": "code",
   "execution_count": 30,
   "id": "a1c2c566",
   "metadata": {},
   "outputs": [
    {
     "data": {
      "text/plain": [
       "('helloeveryone',\n",
       " ['h', 'e', 'l', 'l', '0', 'e', 'v', 'e', 'r', 'y', 'o', 'n', 'e'])"
      ]
     },
     "execution_count": 30,
     "metadata": {},
     "output_type": "execute_result"
    }
   ],
   "source": [
    "# concatination #\n",
    "string +'everyone', l+ ['e','v','e','r','y','o','n','e']"
   ]
  },
  {
   "cell_type": "markdown",
   "id": "1172b78f",
   "metadata": {},
   "source": [
    "#Q 13.What's the difference between tuples and lists?"
   ]
  },
  {
   "cell_type": "raw",
   "id": "653da501",
   "metadata": {},
   "source": [
    "Ans. Lists are mutable - they can be modified have values added, removed, or changed. \n",
    "lists use the square brackets, [  ]\n",
    "\n",
    "Tuples are immutable; they cannot be modified. \n",
    "Tuples are written using parentheses, (  )  "
   ]
  },
  {
   "cell_type": "code",
   "execution_count": 31,
   "id": "f10985cf",
   "metadata": {},
   "outputs": [],
   "source": [
    "lists = [1, 2,\"hello\"]\n",
    "tuples = (1, 2,'hello')"
   ]
  },
  {
   "cell_type": "code",
   "execution_count": 32,
   "id": "de681f57",
   "metadata": {},
   "outputs": [
    {
     "data": {
      "text/plain": [
       "['ineuron', 2, 'hello']"
      ]
     },
     "execution_count": 32,
     "metadata": {},
     "output_type": "execute_result"
    }
   ],
   "source": [
    "lists [0] = 'ineuron'\n",
    "lists"
   ]
  },
  {
   "cell_type": "code",
   "execution_count": 33,
   "id": "67f64cb3",
   "metadata": {},
   "outputs": [
    {
     "ename": "TypeError",
     "evalue": "'tuple' object does not support item assignment",
     "output_type": "error",
     "traceback": [
      "\u001b[1;31m---------------------------------------------------------------------------\u001b[0m",
      "\u001b[1;31mTypeError\u001b[0m                                 Traceback (most recent call last)",
      "Input \u001b[1;32mIn [33]\u001b[0m, in \u001b[0;36m<cell line: 1>\u001b[1;34m()\u001b[0m\n\u001b[1;32m----> 1\u001b[0m tuples[\u001b[38;5;241m0\u001b[39m] \u001b[38;5;241m=\u001b[39m \u001b[38;5;124m'\u001b[39m\u001b[38;5;124mineuron\u001b[39m\u001b[38;5;124m'\u001b[39m\n\u001b[0;32m      2\u001b[0m tuples\n",
      "\u001b[1;31mTypeError\u001b[0m: 'tuple' object does not support item assignment"
     ]
    }
   ],
   "source": [
    "tuples[0] = 'ineuron'\n",
    "tuples"
   ]
  },
  {
   "cell_type": "markdown",
   "id": "c4e11ab9",
   "metadata": {},
   "source": [
    " #Q 14.How do you type a tuple value that only contains the integer 42?"
   ]
  },
  {
   "cell_type": "code",
   "execution_count": 40,
   "id": "c4b45ac3",
   "metadata": {},
   "outputs": [
    {
     "data": {
      "text/plain": [
       "(42,)"
      ]
     },
     "execution_count": 40,
     "metadata": {},
     "output_type": "execute_result"
    }
   ],
   "source": [
    "tuples =(42,)\n",
    "tuples"
   ]
  },
  {
   "cell_type": "code",
   "execution_count": 41,
   "id": "bda3bd61",
   "metadata": {},
   "outputs": [
    {
     "data": {
      "text/plain": [
       "tuple"
      ]
     },
     "execution_count": 41,
     "metadata": {},
     "output_type": "execute_result"
    }
   ],
   "source": [
    "type(tuples)"
   ]
  },
  {
   "cell_type": "markdown",
   "id": "88846945",
   "metadata": {},
   "source": [
    "#Q 15. How do you get a list value's tuple form? How do you get a tuple value's list form?"
   ]
  },
  {
   "cell_type": "code",
   "execution_count": 42,
   "id": "9ccb932e",
   "metadata": {},
   "outputs": [
    {
     "name": "stdout",
     "output_type": "stream",
     "text": [
      "(1, 2, 3, 4)\n"
     ]
    }
   ],
   "source": [
    "lis = [1, 2,3, 4]\n",
    "print(tuple (lis)) # using tuple() function #"
   ]
  },
  {
   "cell_type": "code",
   "execution_count": 43,
   "id": "bdc8c367",
   "metadata": {},
   "outputs": [
    {
     "name": "stdout",
     "output_type": "stream",
     "text": [
      "[1, 2, 3, 4]\n"
     ]
    }
   ],
   "source": [
    "tup = (1, 2,3,4)\n",
    "print(list(tup)) # by using list function #"
   ]
  },
  {
   "cell_type": "markdown",
   "id": "d7af6bdf",
   "metadata": {},
   "source": [
    "#Q 16. Variables that \"contain\" list values are not necessarily lists themselves. Instead, what do they contain?"
   ]
  },
  {
   "cell_type": "raw",
   "id": "de64f472",
   "metadata": {},
   "source": [
    "Ans. They contain references to list values.\n",
    "\n",
    " Example\n",
    "\n",
    "a = [1,2,3]\n",
    "\n",
    "Python creates a new reference for a to point at the object representing the value [1,2,3] in the memory"
   ]
  },
  {
   "cell_type": "markdown",
   "id": "f602413d",
   "metadata": {},
   "source": [
    "#Q 17. How do you distinguish between copy.copy() and copy.deepcopy()?"
   ]
  },
  {
   "cell_type": "raw",
   "id": "3a734f8d",
   "metadata": {},
   "source": [
    "The copy.copy() function will do a shallow copy of a list\n",
    "\n",
    "The copy.deepcopy() function will do a deep copy of a list.\n",
    "Only copy.deepcopy() will duplicate any lists inside the \n",
    "list"
   ]
  },
  {
   "cell_type": "code",
   "execution_count": 45,
   "id": "0f6ec07a",
   "metadata": {},
   "outputs": [],
   "source": [
    "import copy\n",
    "l = [1,2,[3,4,]]\n"
   ]
  },
  {
   "cell_type": "code",
   "execution_count": 52,
   "id": "baf42637",
   "metadata": {},
   "outputs": [
    {
     "name": "stdout",
     "output_type": "stream",
     "text": [
      "1408408241024\n",
      "1408416000192\n",
      "1408304769360\n",
      "1408304769360\n"
     ]
    }
   ],
   "source": [
    "copy_list = copy. copy(l)\n",
    "print(id(l))\n",
    "print(id(copy_list))\n",
    "\n",
    "print(id(l[1]))\n",
    "print(id(copy_list[1]))\n"
   ]
  },
  {
   "cell_type": "code",
   "execution_count": 53,
   "id": "c3e51022",
   "metadata": {},
   "outputs": [
    {
     "name": "stdout",
     "output_type": "stream",
     "text": [
      "1408408241024\n",
      "1408416259904\n",
      "1408304769360\n",
      "1408304769360\n"
     ]
    }
   ],
   "source": [
    "deepcopy_list = copy.deepcopy(l)\n",
    "\n",
    "print(id(l))\n",
    "print(id(deepcopy_list))\n",
    "\n",
    "print(id(l[1]))\n",
    "print(id(deepcopy_list[1]))\n"
   ]
  }
 ],
 "metadata": {
  "kernelspec": {
   "display_name": "Python 3 (ipykernel)",
   "language": "python",
   "name": "python3"
  },
  "language_info": {
   "codemirror_mode": {
    "name": "ipython",
    "version": 3
   },
   "file_extension": ".py",
   "mimetype": "text/x-python",
   "name": "python",
   "nbconvert_exporter": "python",
   "pygments_lexer": "ipython3",
   "version": "3.9.12"
  }
 },
 "nbformat": 4,
 "nbformat_minor": 5
}
